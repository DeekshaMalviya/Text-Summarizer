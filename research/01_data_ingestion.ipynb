{
 "cells": [
  {
   "cell_type": "code",
   "execution_count": 50,
   "id": "b13915f6",
   "metadata": {},
   "outputs": [],
   "source": [
    "import os"
   ]
  },
  {
   "cell_type": "code",
   "execution_count": 51,
   "id": "eea32537",
   "metadata": {},
   "outputs": [
    {
     "data": {
      "text/plain": [
       "'d:\\\\Projects'"
      ]
     },
     "execution_count": 51,
     "metadata": {},
     "output_type": "execute_result"
    }
   ],
   "source": [
    "%pwd"
   ]
  },
  {
   "cell_type": "code",
   "execution_count": 54,
   "id": "7d21ac94",
   "metadata": {},
   "outputs": [],
   "source": [
    "os.chdir(\"../\")"
   ]
  },
  {
   "cell_type": "code",
   "execution_count": 55,
   "id": "e24db2b2",
   "metadata": {},
   "outputs": [
    {
     "data": {
      "text/plain": [
       "'d:\\\\Projects'"
      ]
     },
     "execution_count": 55,
     "metadata": {},
     "output_type": "execute_result"
    }
   ],
   "source": [
    "%pwd"
   ]
  },
  {
   "cell_type": "code",
   "execution_count": 56,
   "id": "b79b2139",
   "metadata": {},
   "outputs": [],
   "source": [
    "os.chdir(\"Text-Summarizer\")"
   ]
  },
  {
   "cell_type": "code",
   "execution_count": 57,
   "id": "fede5caa",
   "metadata": {},
   "outputs": [
    {
     "data": {
      "text/plain": [
       "'d:\\\\Projects\\\\Text-Summarizer'"
      ]
     },
     "execution_count": 57,
     "metadata": {},
     "output_type": "execute_result"
    }
   ],
   "source": [
    "%pwd"
   ]
  },
  {
   "cell_type": "code",
   "execution_count": 58,
   "id": "90cd0b6e",
   "metadata": {},
   "outputs": [],
   "source": [
    "from dataclasses import dataclass\n",
    "from pathlib import Path  ##this is we are creating entity to get return type of a function\n",
    "\n",
    "@dataclass(frozen=True)\n",
    "class DataIngestionConfig:\n",
    "  root_dir: Path\n",
    "  source_URL:str                # This we have made a return type\n",
    "  local_data_file:Path\n",
    "  unzip_dir:Path"
   ]
  },
  {
   "cell_type": "code",
   "execution_count": 59,
   "id": "60b80ef5",
   "metadata": {},
   "outputs": [],
   "source": [
    "from textSummarizer.constants import *\n",
    "from textSummarizer.utils.common import read_yaml,create_directories"
   ]
  },
  {
   "cell_type": "code",
   "execution_count": 60,
   "id": "1ad06f46",
   "metadata": {},
   "outputs": [],
   "source": [
    "class ConfigurationManager:  ## preparing method for data ingestion\n",
    "  def __init__(     ##creating constructor \n",
    "      self,\n",
    "      config_filepath = CONFIG_FILE_PATH,\n",
    "      param_filepath = PARAMS_FILE_PATH):\n",
    "\n",
    "      self.config = read_yaml(config_filepath)   ##read this yaml file and access all the variable inside\n",
    "      self.params = read_yaml(param_filepath)\n",
    "\n",
    "      ##create artifacts folder using create_dir function  \n",
    "      create_directories([self.config.artifacts_root]) \n",
    "\n",
    "\n",
    "\n",
    "  def get_data_ingestion_config(self) -> DataIngestionConfig:  ## this is the return type      \n",
    "    # this is data ingestion related config to access all the thing under config.yaml file \n",
    "    config = self.config.data_ingestion\n",
    "\n",
    "    create_directories([config.root_dir])\n",
    "\n",
    "    data_ingestion_config = DataIngestionConfig(\n",
    "      root_dir= config.root_dir,\n",
    "      source_URL= config.source_URL,\n",
    "      local_data_file= config.local_data_file,\n",
    "      unzip_dir= config.unzip_dir\n",
    "    )\n",
    "\n",
    "    return data_ingestion_config"
   ]
  },
  {
   "cell_type": "code",
   "execution_count": 61,
   "id": "cecd9f52",
   "metadata": {},
   "outputs": [],
   "source": [
    "# Updating components\n",
    "\n",
    "import os\n",
    "import urllib.request as request\n",
    "import zipfile\n",
    "from textSummarizer.logging import logger\n",
    "from textSummarizer.utils.common import get_size\n"
   ]
  },
  {
   "cell_type": "code",
   "execution_count": 62,
   "id": "ec5b2403",
   "metadata": {},
   "outputs": [],
   "source": [
    "class DataIngestion:\n",
    "  def __init__(self, config: DataIngestionConfig):\n",
    "    self.config = config\n",
    "\n",
    "\n",
    "\n",
    "  def download_file(self):\n",
    "    if not os.path.exists(self.config.local_data_file):\n",
    "      filename, headers = request.urlretrieve(\n",
    "        url = self.config.source_URL,\n",
    "        filename= self.config.local_data_file\n",
    "      )\n",
    "      logger.info(f\"{filename} download! with the following info: \\n{headers}\")\n",
    "    else:\n",
    "      logger.info(f\"File already exists of size: {get_size(Path(self.config.local_data_file))}\")\n",
    "\n",
    "\n",
    "  def extract_zip_file(self):\n",
    "    \"\"\" \n",
    "    zip_file_path : str\n",
    "    extracts the zip file into the data directory\n",
    "    Function return None\n",
    "    \"\"\"\n",
    "\n",
    "    unzip_path = self.config.unzip_dir\n",
    "    os.makedirs(unzip_path, exist_ok=True)\n",
    "    with zipfile.ZipFile(self.config.local_data_file,'r') as zip_ref:\n",
    "      zip_ref.extractall(unzip_path)\n",
    "\n"
   ]
  },
  {
   "cell_type": "code",
   "execution_count": 63,
   "id": "a7e49734",
   "metadata": {},
   "outputs": [
    {
     "name": "stdout",
     "output_type": "stream",
     "text": [
      "[2025-05-09 17:30:44,546: INFO: common: yaml:config\\config.yamlloaded successfully]\n",
      "[2025-05-09 17:30:44,551: INFO: common: yaml:params.yamlloaded successfully]\n",
      "[2025-05-09 17:30:44,552: INFO: common: created directory at: artifacts]\n",
      "[2025-05-09 17:30:44,556: INFO: common: created directory at: artifacts/data_ingestion]\n",
      "[2025-05-09 17:30:48,342: INFO: 747062685: artifacts/data_ingestion/data.zip download! with the following info: \n",
      "Connection: close\n",
      "Content-Length: 7903594\n",
      "Cache-Control: max-age=300\n",
      "Content-Security-Policy: default-src 'none'; style-src 'unsafe-inline'; sandbox\n",
      "Content-Type: application/zip\n",
      "ETag: \"dbc016a060da18070593b83afff580c9b300f0b6ea4147a7988433e04df246ca\"\n",
      "Strict-Transport-Security: max-age=31536000\n",
      "X-Content-Type-Options: nosniff\n",
      "X-Frame-Options: deny\n",
      "X-XSS-Protection: 1; mode=block\n",
      "X-GitHub-Request-Id: 42DD:321AE5:152CD9:344BF4:681DEE70\n",
      "Accept-Ranges: bytes\n",
      "Date: Fri, 09 May 2025 12:00:49 GMT\n",
      "Via: 1.1 varnish\n",
      "X-Served-By: cache-maa10238-MAA\n",
      "X-Cache: MISS\n",
      "X-Cache-Hits: 0\n",
      "X-Timer: S1746792048.484278,VS0,VE677\n",
      "Vary: Authorization,Accept-Encoding,Origin\n",
      "Access-Control-Allow-Origin: *\n",
      "Cross-Origin-Resource-Policy: cross-origin\n",
      "X-Fastly-Request-ID: 6c4a70bb94bffcb99e26bb229e38521d7df9fe0b\n",
      "Expires: Fri, 09 May 2025 12:05:49 GMT\n",
      "Source-Age: 0\n",
      "\n",
      "]\n"
     ]
    }
   ],
   "source": [
    "try:\n",
    "    config = ConfigurationManager()\n",
    "    data_ingestion_config = config.get_data_ingestion_config()\n",
    "    data_ingestion = DataIngestion(config = data_ingestion_config)\n",
    "    data_ingestion.download_file()\n",
    "    data_ingestion.extract_zip_file()\n",
    "except Exception as e:\n",
    "    raise e"
   ]
  },
  {
   "cell_type": "code",
   "execution_count": 64,
   "id": "de3d33c4",
   "metadata": {},
   "outputs": [
    {
     "name": "stdout",
     "output_type": "stream",
     "text": [
      "Current Working Directory: d:\\Projects\\Text-Summarizer\n",
      "Expected path: d:\\Projects\\Text-Summarizer\\config\\config.yaml\n",
      "File exists: True\n"
     ]
    }
   ],
   "source": [
    "import os\n",
    "print(\"Current Working Directory:\", os.getcwd())\n",
    "print(\"Expected path:\", os.path.abspath(\"config/config.yaml\"))\n",
    "print(\"File exists:\", os.path.exists(\"config/config.yaml\"))\n"
   ]
  },
  {
   "cell_type": "code",
   "execution_count": null,
   "id": "ed0ef9e4",
   "metadata": {},
   "outputs": [],
   "source": []
  }
 ],
 "metadata": {
  "kernelspec": {
   "display_name": "textS",
   "language": "python",
   "name": "python3"
  },
  "language_info": {
   "codemirror_mode": {
    "name": "ipython",
    "version": 3
   },
   "file_extension": ".py",
   "mimetype": "text/x-python",
   "name": "python",
   "nbconvert_exporter": "python",
   "pygments_lexer": "ipython3",
   "version": "3.11.11"
  }
 },
 "nbformat": 4,
 "nbformat_minor": 5
}
