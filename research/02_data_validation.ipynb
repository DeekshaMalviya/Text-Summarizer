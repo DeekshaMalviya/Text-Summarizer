{
 "cells": [
  {
   "cell_type": "code",
   "execution_count": 2,
   "id": "8d283861",
   "metadata": {},
   "outputs": [],
   "source": [
    "import os"
   ]
  },
  {
   "cell_type": "code",
   "execution_count": 3,
   "id": "9fca920e",
   "metadata": {},
   "outputs": [
    {
     "data": {
      "text/plain": [
       "'d:\\\\Projects\\\\Text-Summarizer\\\\research'"
      ]
     },
     "execution_count": 3,
     "metadata": {},
     "output_type": "execute_result"
    }
   ],
   "source": [
    "%pwd"
   ]
  },
  {
   "cell_type": "code",
   "execution_count": 4,
   "id": "30a61b19",
   "metadata": {},
   "outputs": [],
   "source": [
    "os.chdir(\"../\")"
   ]
  },
  {
   "cell_type": "code",
   "execution_count": 12,
   "id": "eccb1ad9",
   "metadata": {},
   "outputs": [
    {
     "data": {
      "text/plain": [
       "'d:\\\\Projects\\\\Text-Summarizer'"
      ]
     },
     "execution_count": 12,
     "metadata": {},
     "output_type": "execute_result"
    }
   ],
   "source": [
    "%pwd"
   ]
  },
  {
   "cell_type": "code",
   "execution_count": 25,
   "id": "0f76cfc1",
   "metadata": {},
   "outputs": [],
   "source": [
    "# Defining Entity for Data validation\n",
    "\n",
    "from dataclasses import dataclass\n",
    "from pathlib import Path\n",
    "\n",
    "@dataclass(frozen=True)\n",
    "class DataValidationConfig:\n",
    "  root_dir: Path\n",
    "  STATUS_FILE :str\n",
    "  ALL_REQUIRED_FILES :list"
   ]
  },
  {
   "cell_type": "code",
   "execution_count": 26,
   "id": "be8742a3",
   "metadata": {},
   "outputs": [],
   "source": [
    "from textSummarizer.constants import *\n",
    "from textSummarizer.utils.common import read_yaml,create_directories"
   ]
  },
  {
   "cell_type": "code",
   "execution_count": 27,
   "id": "09894d51",
   "metadata": {},
   "outputs": [],
   "source": [
    "class ConfigurationManager:  ## preparing method for data validation\n",
    "  def __init__(     ##creating constructor \n",
    "      self,\n",
    "      config_filepath = CONFIG_FILE_PATH,\n",
    "      param_filepath = PARAMS_FILE_PATH):\n",
    "\n",
    "      self.config = read_yaml(config_filepath)   ##read this yaml file and access all the variable inside\n",
    "      self.params = read_yaml(param_filepath)\n",
    "\n",
    "      ##create artifacts folder using create_dir function  \n",
    "      create_directories([self.config.artifacts_root]) \n",
    "\n",
    "\n",
    "  \n",
    "  def get_data_validation_config(self) -> DataValidationConfig:  ## this is the return type      \n",
    "    # this is data validation related config to access all the thing under config.yaml file \n",
    "    config = self.config.data_validation\n",
    "\n",
    "    create_directories([config.root_dir])\n",
    "\n",
    "    data_validation_config = DataValidationConfig(\n",
    "      root_dir= config.root_dir,\n",
    "      STATUS_FILE= config.STATUS_FILE,\n",
    "      ALL_REQUIRED_FILES= config.ALL_REQUIRED_FILES\n",
    "    )\n",
    "\n",
    "    return data_validation_config"
   ]
  },
  {
   "cell_type": "code",
   "execution_count": 28,
   "id": "c6c2edea",
   "metadata": {},
   "outputs": [],
   "source": [
    "import os\n",
    "from textSummarizer.logging import logger"
   ]
  },
  {
   "cell_type": "code",
   "execution_count": 29,
   "id": "b7f00898",
   "metadata": {},
   "outputs": [],
   "source": [
    "class DataValidation:\n",
    "    def __init__(self, config: DataValidationConfig):\n",
    "        self.config = config\n",
    "\n",
    "\n",
    "    def validate_all_files_exist(self)-> bool:\n",
    "        try:\n",
    "            validation_status = None\n",
    "\n",
    "            all_files = os.listdir(os.path.join(\"artifacts\",\"data_ingestion\",\"samsum_dataset\"))\n",
    "\n",
    "            for file in all_files:\n",
    "                if file not in self.config.ALL_REQUIRED_FILES:\n",
    "                  validation_status = False\n",
    "                  with open(self.config.STATUS_FILE, 'w') as f:\n",
    "                        f.write(f\"Validation status:{validation_status}\")\n",
    "                else:\n",
    "                    validation_status = True\n",
    "                    with open(self.config.STATUS_FILE, 'w') as f:\n",
    "                        f.write(f\"Validation status: {validation_status}\")\n",
    "\n",
    "            return validation_status\n",
    "        \n",
    "        except Exception as e:\n",
    "            raise e"
   ]
  },
  {
   "cell_type": "code",
   "execution_count": 30,
   "id": "56840aef",
   "metadata": {},
   "outputs": [
    {
     "name": "stdout",
     "output_type": "stream",
     "text": [
      "[2025-05-09 22:05:12,080: INFO: common: yaml:config\\config.yamlloaded successfully]\n",
      "[2025-05-09 22:05:12,088: INFO: common: yaml:params.yamlloaded successfully]\n",
      "[2025-05-09 22:05:12,091: INFO: common: created directory at: artifacts]\n",
      "[2025-05-09 22:05:12,096: INFO: common: created directory at: artifacts/data_validation]\n"
     ]
    }
   ],
   "source": [
    "try:\n",
    "    config = ConfigurationManager()\n",
    "    data_validation_config = config.get_data_validation_config()\n",
    "    data_validation = DataValidation(config=data_validation_config)\n",
    "    data_validation.validate_all_files_exist()\n",
    "except Exception as e:\n",
    "    raise e"
   ]
  },
  {
   "cell_type": "code",
   "execution_count": null,
   "id": "aae291e7",
   "metadata": {},
   "outputs": [],
   "source": []
  }
 ],
 "metadata": {
  "kernelspec": {
   "display_name": "textS",
   "language": "python",
   "name": "python3"
  },
  "language_info": {
   "codemirror_mode": {
    "name": "ipython",
    "version": 3
   },
   "file_extension": ".py",
   "mimetype": "text/x-python",
   "name": "python",
   "nbconvert_exporter": "python",
   "pygments_lexer": "ipython3",
   "version": "3.11.11"
  }
 },
 "nbformat": 4,
 "nbformat_minor": 5
}
